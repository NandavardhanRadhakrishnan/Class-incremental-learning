{
  "cells": [
    {
      "cell_type": "code",
      "execution_count": 6,
      "metadata": {
        "id": "t4F90-rB4LbC"
      },
      "outputs": [],
      "source": [
        "import torch\n",
        "import torch.nn as nn\n",
        "import torch.optim as optim\n",
        "from torch.utils.data import DataLoader, TensorDataset\n",
        "import torch.nn.functional as F\n",
        "import numpy as np\n",
        "import pandas as pd\n",
        "from tqdm import tqdm\n",
        "from sklearn.metrics import confusion_matrix, accuracy_score\n",
        "import seaborn as sns\n",
        "import matplotlib.pyplot as plt\n"
      ]
    },
    {
      "cell_type": "code",
      "execution_count": 32,
      "metadata": {
        "id": "7GHDsc6D4LbE"
      },
      "outputs": [],
      "source": [
        "\n",
        "# Define the feature extractor (f)\n",
        "class FeatureExtractor(nn.Module):\n",
        "    def __init__(self):\n",
        "        super(FeatureExtractor, self).__init__()\n",
        "        self.conv = nn.Sequential(\n",
        "            nn.Conv2d(1, 32, kernel_size=3, stride=1, padding=1),\n",
        "            nn.ReLU(),\n",
        "            nn.MaxPool2d(2),\n",
        "            nn.Conv2d(32, 64, kernel_size=3, stride=1, padding=1),\n",
        "            nn.ReLU(),\n",
        "            nn.MaxPool2d(2),\n",
        "        )\n",
        "        self.flatten = nn.Flatten()\n",
        "        self.fc = nn.Linear(64 * 7 * 7, 128)\n",
        "\n",
        "    def forward(self, x):\n",
        "        x = self.conv(x)\n",
        "        x = self.flatten(x)\n",
        "        x = self.fc(x)\n",
        "        return x\n",
        "\n",
        "# Define the classification head (θ)\n",
        "class ClassificationHead(nn.Module):\n",
        "    def __init__(self, input_dim, num_classes):\n",
        "        super(ClassificationHead, self).__init__()\n",
        "        self.fc = nn.Linear(input_dim, num_classes)\n",
        "\n",
        "    def forward(self, x):\n",
        "        return self.fc(x)\n",
        "\n",
        "# Synthesizer: A simple generator for model inversion\n",
        "class Synthesizer(nn.Module):\n",
        "    def __init__(self, feature_dim, image_shape):\n",
        "        super(Synthesizer, self).__init__()\n",
        "        self.fc = nn.Linear(feature_dim, np.prod(image_shape))\n",
        "        self.image_shape = image_shape\n",
        "\n",
        "    def forward(self, features):\n",
        "        images = self.fc(features).view(-1, *self.image_shape)\n",
        "        return torch.sigmoid(images)  # Generate synthetic images\n"
      ]
    },
    {
      "cell_type": "code",
      "execution_count": 33,
      "metadata": {
        "id": "E54FlCcw4LbG"
      },
      "outputs": [],
      "source": [
        "def create_mnist_data(num_classes, task_index,csv_file=\"mnist.csv\", image_shape=(1, 28, 28)):\n",
        "    mnist_file = open(csv_file)\n",
        "    df = pd.read_csv(mnist_file)\n",
        "\n",
        "    # Determine the classes for this task\n",
        "    all_classes = sorted(df['label'].unique())  # Get all unique classes\n",
        "    start_class = task_index * num_classes      # Starting class for this task\n",
        "    end_class = start_class + num_classes       # Ending class for this task\n",
        "    valid_classes = all_classes[start_class:end_class]\n",
        "\n",
        "    # Filter the dataset for the valid classes\n",
        "    filtered_df = df[df['label'].isin(valid_classes)]\n",
        "\n",
        "    # Separate features and labels\n",
        "    X = filtered_df.drop(columns=['label']).values  # Features (flattened images)\n",
        "    y = filtered_df['label'].values                # Labels\n",
        "\n",
        "    # Normalize and reshape the images\n",
        "    X = torch.tensor(X / 255.0, dtype=torch.float32)  # Normalize to [0, 1]\n",
        "    X = X.view(-1, *image_shape)  # Reshape to (batch, 1, 28, 28)\n",
        "    y = torch.tensor(y, dtype=torch.long)            # Convert labels to tensors\n",
        "\n",
        "    return TensorDataset(X, y)"
      ]
    },
    {
      "cell_type": "code",
      "execution_count": 119,
      "metadata": {
        "id": "20FNuGvN4LbH"
      },
      "outputs": [],
      "source": [
        "\n",
        "# Knowledge distillation loss\n",
        "def knowledge_distillation_loss(pred, target, temperature=2):\n",
        "    soft_pred = F.log_softmax(pred / temperature, dim=1)\n",
        "    soft_target = F.softmax(target / temperature, dim=1)\n",
        "    return F.kl_div(soft_pred, soft_target, reduction=\"batchmean\") * (temperature ** 2)\n",
        "\n",
        "\n",
        "# Training loop with progress bars\n",
        "def train_r_dfcil(task_data, num_classes_per_task, feature_dim=128, image_shape=(1, 28, 28), epochs=3):\n",
        "    feature_extractor = FeatureExtractor()\n",
        "    classification_head = ClassificationHead(feature_dim, num_classes_per_task[0])\n",
        "    synthesizer = Synthesizer(feature_dim, image_shape)\n",
        "\n",
        "    old_model = None\n",
        "    optimizer = optim.Adam(list(feature_extractor.parameters()) + list(classification_head.parameters()), lr=0.001)\n",
        "    criterion = nn.CrossEntropyLoss()\n",
        "\n",
        "    for task_idx, (train_data, test_data) in enumerate(task_data):\n",
        "        print(f\"\\nTraining on Task {task_idx + 1}/{len(task_data)}\")\n",
        "        train_loader = DataLoader(train_data, batch_size=32, shuffle=True)\n",
        "        num_classes = sum(num_classes_per_task[:task_idx + 1])\n",
        "\n",
        "        if task_idx > 0:\n",
        "            # Expand the classification head for new classes\n",
        "            old_classification_head = classification_head\n",
        "            classification_head = ClassificationHead(feature_dim, num_classes)\n",
        "            classification_head.fc.weight.data[:old_classification_head.fc.out_features] = \\\n",
        "                old_classification_head.fc.weight.data\n",
        "            classification_head.fc.bias.data[:old_classification_head.fc.out_features] = \\\n",
        "                old_classification_head.fc.bias.data\n",
        "\n",
        "        # Optimizer for expanded model\n",
        "        optimizer = optim.Adam(list(feature_extractor.parameters()) + list(classification_head.parameters()), lr=0.001)\n",
        "\n",
        "        # Train synthesizer using the old model\n",
        "        if old_model is not None:\n",
        "            print(\"Training synthesizer...\")\n",
        "            synth_optimizer = optim.Adam(synthesizer.parameters(), lr=0.001)\n",
        "            for epoch in tqdm(range(epochs), desc=\"Synthesizer Training\", leave=False):\n",
        "                features = torch.randn(32, feature_dim)  # Random latent features\n",
        "                synthetic_images = synthesizer(features)\n",
        "                synth_optimizer.zero_grad()\n",
        "                features = old_model[0](synthetic_images)\n",
        "                preds = old_model[1](features)\n",
        "                loss = criterion(preds, torch.randint(0, num_classes - num_classes_per_task[task_idx], (32,)))\n",
        "                loss.backward()\n",
        "                synth_optimizer.step()\n",
        "\n",
        "        # Train new task\n",
        "        print(\"Training model...\")\n",
        "        for epoch in tqdm(range(epochs), desc=f\"Task {task_idx + 1} Training\", leave=False):\n",
        "            feature_extractor.train()\n",
        "            classification_head.train()\n",
        "            epoch_loss = 0\n",
        "            for images, labels in train_loader:\n",
        "                images, labels = images, labels\n",
        "                optimizer.zero_grad()\n",
        "\n",
        "                # Forward pass\n",
        "                features = feature_extractor(images)\n",
        "                outputs = classification_head(features)\n",
        "\n",
        "                # Loss calculation\n",
        "                loss = criterion(outputs, labels)\n",
        "\n",
        "                # Add knowledge distillation loss if old model exists\n",
        "                if old_model is not None:\n",
        "                    with torch.no_grad():\n",
        "                        old_features = old_model[0](images)\n",
        "                        old_outputs = old_model[1](old_features)\n",
        "                    loss += knowledge_distillation_loss(outputs[:, :num_classes - num_classes_per_task[task_idx]],\n",
        "                                                        old_outputs)\n",
        "\n",
        "                loss.backward()\n",
        "                optimizer.step()\n",
        "                epoch_loss += loss.item()\n",
        "\n",
        "            tqdm.write(f\"Epoch {epoch + 1}/{epochs} Loss: {epoch_loss / len(train_loader):.4f}\")\n",
        "\n",
        "        # Freeze old model\n",
        "        old_model = (feature_extractor, classification_head)\n",
        "        print(f\"Finished Task {task_idx + 1}/{len(task_data)}\")\n",
        "    return feature_extractor, classification_head, synthesizer\n",
        "\n"
      ]
    },
    {
      "cell_type": "code",
      "execution_count": 120,
      "metadata": {
        "colab": {
          "base_uri": "https://localhost:8080/"
        },
        "id": "lYA5buvH4LbH",
        "outputId": "e4758e18-a7b2-4336-db13-6167d0cbc9d6"
      },
      "outputs": [
        {
          "output_type": "stream",
          "name": "stdout",
          "text": [
            "\n",
            "Training on Task 1/2\n",
            "Training model...\n"
          ]
        },
        {
          "output_type": "stream",
          "name": "stderr",
          "text": [
            "Task 1 Training:  33%|███▎      | 1/3 [00:25<00:50, 25.30s/it]"
          ]
        },
        {
          "output_type": "stream",
          "name": "stdout",
          "text": [
            "Epoch 1/3 Loss: 0.0934\n"
          ]
        },
        {
          "output_type": "stream",
          "name": "stderr",
          "text": [
            "Task 1 Training:  67%|██████▋   | 2/3 [00:50<00:25, 25.53s/it]"
          ]
        },
        {
          "output_type": "stream",
          "name": "stdout",
          "text": [
            "Epoch 2/3 Loss: 0.0251\n"
          ]
        },
        {
          "output_type": "stream",
          "name": "stderr",
          "text": []
        },
        {
          "output_type": "stream",
          "name": "stdout",
          "text": [
            "Epoch 3/3 Loss: 0.0158\n",
            "Finished Task 1/2\n",
            "\n",
            "Training on Task 2/2\n",
            "Training synthesizer...\n"
          ]
        },
        {
          "output_type": "stream",
          "name": "stderr",
          "text": []
        },
        {
          "output_type": "stream",
          "name": "stdout",
          "text": [
            "Training model...\n"
          ]
        },
        {
          "output_type": "stream",
          "name": "stderr",
          "text": [
            "Task 2 Training:  33%|███▎      | 1/3 [00:33<01:06, 33.26s/it]"
          ]
        },
        {
          "output_type": "stream",
          "name": "stdout",
          "text": [
            "Epoch 1/3 Loss: 0.1419\n"
          ]
        },
        {
          "output_type": "stream",
          "name": "stderr",
          "text": [
            "Task 2 Training:  67%|██████▋   | 2/3 [01:07<00:33, 33.82s/it]"
          ]
        },
        {
          "output_type": "stream",
          "name": "stdout",
          "text": [
            "Epoch 2/3 Loss: 0.0316\n"
          ]
        },
        {
          "output_type": "stream",
          "name": "stderr",
          "text": [
            "                                                              "
          ]
        },
        {
          "output_type": "stream",
          "name": "stdout",
          "text": [
            "Epoch 3/3 Loss: 0.0201\n",
            "Finished Task 2/2\n"
          ]
        },
        {
          "output_type": "stream",
          "name": "stderr",
          "text": [
            "\r"
          ]
        }
      ],
      "source": [
        "num_classes_per_task = [5, 5]  # Task 1: 5 classes, Task 2: 5 classes\n",
        "image_shape = (1, 28, 28)\n",
        "\n",
        "# Load MNIST datasets for tasks\n",
        "task1_data = create_mnist_data(num_classes_per_task[0], task_index=0, image_shape=image_shape)\n",
        "task2_data = create_mnist_data(num_classes_per_task[1], task_index=1, image_shape=image_shape)\n",
        "data = create_mnist_data(10, task_index=0, image_shape=image_shape)\n",
        "\n",
        "# Prepare task data\n",
        "task_data = [(task1_data, task1_data), (task2_data, task2_data)]  # (train, test)\n",
        "\n",
        "# Train R-DFCIL\n",
        "feature_extractor, classification_head, synthesizer = train_r_dfcil(task_data, num_classes_per_task, image_shape=image_shape)"
      ]
    },
    {
      "cell_type": "code",
      "source": [
        "def inference_on_model(feature_extractor, classification_head, loader, num_classes):\n",
        "    feature_extractor.eval()\n",
        "    classification_head.eval()\n",
        "\n",
        "    all_preds = []\n",
        "    all_labels = []\n",
        "    device = torch.device(\"cuda\" if torch.cuda.is_available() else \"cpu\")\n",
        "\n",
        "    feature_extractor.to(device)\n",
        "    classification_head.to(device)\n",
        "\n",
        "    with torch.no_grad():\n",
        "        for batch_idx, (images, labels) in enumerate(loader):\n",
        "            images, labels = images.to(device), labels.to(device)\n",
        "\n",
        "            # Ensure images have the correct batch and channel dimensions\n",
        "            if len(images.shape) == 3:  # If shape is (batch, height, width)\n",
        "                images = images.unsqueeze(1)  # Add channel dimension (batch, channels, height, width)\n",
        "\n",
        "            # Forward pass\n",
        "            features = feature_extractor(images)\n",
        "            logits = classification_head(features)\n",
        "            predictions = torch.argmax(logits, dim=1)\n",
        "\n",
        "            # Collect results for evaluation\n",
        "            all_preds.extend(predictions.cpu().numpy())\n",
        "\n",
        "            # Reshape labels to match batch processing\n",
        "            if labels.ndimension() == 0:  # If labels are 0-dimensional (scalar)\n",
        "                labels = labels.unsqueeze(0)\n",
        "\n",
        "            all_labels.extend(labels.cpu().numpy())\n",
        "\n",
        "            # Occasionally display predictions\n",
        "            if batch_idx % 2000 == 0:  # Adjust frequency as needed\n",
        "                print(f\"Batch {batch_idx} Predictions:\")\n",
        "                print(f\"Predicted: {predictions.cpu().numpy()}\")\n",
        "                print(f\"True:      {labels.cpu().numpy()}\")\n",
        "\n",
        "    # Compute accuracy\n",
        "    accuracy = accuracy_score(all_labels, all_preds)\n",
        "    print(f\"\\nAccuracy: {accuracy * 100:.2f}%\")\n",
        "\n",
        "    # Compute confusion matrix\n",
        "    cm = confusion_matrix(all_labels, all_preds, labels=list(range(num_classes)))\n",
        "    plt.figure(figsize=(10, 8))\n",
        "    sns.heatmap(cm, annot=True, fmt=\"d\", cmap=\"Blues\", xticklabels=list(range(num_classes)),\n",
        "                yticklabels=list(range(num_classes)))\n",
        "    plt.xlabel(\"Predicted\")\n",
        "    plt.ylabel(\"True\")\n",
        "    plt.title(\"Confusion Matrix\")\n",
        "    plt.show()\n",
        "    print(cm)\n"
      ],
      "metadata": {
        "id": "QDTbbq576cGp"
      },
      "execution_count": 123,
      "outputs": []
    },
    {
      "cell_type": "code",
      "source": [
        "inference_on_model(feature_extractor,classification_head,data,10)"
      ],
      "metadata": {
        "colab": {
          "base_uri": "https://localhost:8080/",
          "height": 1000
        },
        "id": "oMSZj9eN8E3j",
        "outputId": "e518eb1e-b946-4709-bb44-0469ab06b68b"
      },
      "execution_count": 124,
      "outputs": [
        {
          "output_type": "stream",
          "name": "stdout",
          "text": [
            "Batch 0 Predictions:\n",
            "Predicted: [1]\n",
            "True:      [1]\n",
            "Batch 2000 Predictions:\n",
            "Predicted: [9]\n",
            "True:      [3]\n",
            "Batch 4000 Predictions:\n",
            "Predicted: [8]\n",
            "True:      [8]\n",
            "Batch 6000 Predictions:\n",
            "Predicted: [7]\n",
            "True:      [1]\n",
            "Batch 8000 Predictions:\n",
            "Predicted: [8]\n",
            "True:      [8]\n",
            "Batch 10000 Predictions:\n",
            "Predicted: [8]\n",
            "True:      [2]\n",
            "Batch 12000 Predictions:\n",
            "Predicted: [7]\n",
            "True:      [7]\n",
            "Batch 14000 Predictions:\n",
            "Predicted: [6]\n",
            "True:      [6]\n",
            "Batch 16000 Predictions:\n",
            "Predicted: [8]\n",
            "True:      [1]\n",
            "Batch 18000 Predictions:\n",
            "Predicted: [7]\n",
            "True:      [7]\n",
            "Batch 20000 Predictions:\n",
            "Predicted: [8]\n",
            "True:      [3]\n",
            "Batch 22000 Predictions:\n",
            "Predicted: [7]\n",
            "True:      [7]\n",
            "Batch 24000 Predictions:\n",
            "Predicted: [7]\n",
            "True:      [4]\n",
            "Batch 26000 Predictions:\n",
            "Predicted: [7]\n",
            "True:      [1]\n",
            "Batch 28000 Predictions:\n",
            "Predicted: [5]\n",
            "True:      [3]\n",
            "Batch 30000 Predictions:\n",
            "Predicted: [8]\n",
            "True:      [3]\n",
            "Batch 32000 Predictions:\n",
            "Predicted: [6]\n",
            "True:      [6]\n",
            "Batch 34000 Predictions:\n",
            "Predicted: [7]\n",
            "True:      [1]\n",
            "Batch 36000 Predictions:\n",
            "Predicted: [8]\n",
            "True:      [1]\n",
            "Batch 38000 Predictions:\n",
            "Predicted: [5]\n",
            "True:      [5]\n",
            "Batch 40000 Predictions:\n",
            "Predicted: [8]\n",
            "True:      [2]\n",
            "\n",
            "Accuracy: 54.48%\n"
          ]
        },
        {
          "output_type": "display_data",
          "data": {
            "text/plain": [
              "<Figure size 1000x800 with 2 Axes>"
            ],
            "image/png": "[encoded data removed]"
          },
          "metadata": {}
        },
        {
          "output_type": "stream",
          "name": "stdout",
          "text": [
            "[[ 467    0    0    0    0   16 1283   81 1914  371]\n",
            " [   0 1727    0    0    0   34   46 2272  579   26]\n",
            " [   0    0   25    0    0    4   60 1470 2563   55]\n",
            " [   0    0    0   85    0 1730    2  691 1046  797]\n",
            " [   0    0    0    0   52    0  159  968  182 2711]\n",
            " [   0    0    0    0    0 3777    7    0    6    5]\n",
            " [   0    0    0    0    0    1 4130    0    6    0]\n",
            " [   0    0    0    0    0    0    0 4401    0    0]\n",
            " [   0    0    0    0    0    2    2    0 4054    5]\n",
            " [   0    0    0    0    0    1    0   14   11 4162]]\n"
          ]
        }
      ]
    },
    {
      "cell_type": "code",
      "source": [
        "def infer(f, c, loader, index):\n",
        "    f.eval()\n",
        "    c.eval()\n",
        "    all_preds = []\n",
        "    all_label = []\n",
        "    img,label = loader[index]\n",
        "    features = f(img.unsqueeze(0))\n",
        "    logits = c(features)\n",
        "    predictions = torch.argmax(logits, dim=1)\n",
        "    plt.imshow(img.squeeze(0), cmap='gray')\n",
        "    plt.show()\n",
        "    print(f\"Predicted: {predictions.cpu().numpy()}\")\n",
        "    print(f\"True:      {label.cpu().numpy()}\")\n"
      ],
      "metadata": {
        "id": "cJoU7717Gi_1"
      },
      "execution_count": 88,
      "outputs": []
    },
    {
      "cell_type": "code",
      "source": [
        "infer(feature_extractor,classification_head,task1_data, 20000 )"
      ],
      "metadata": {
        "id": "qrQij3ZJG85E",
        "outputId": "34fc42f3-7fce-4a8f-d5aa-7c46df423908",
        "colab": {
          "base_uri": "https://localhost:8080/",
          "height": 465
        }
      },
      "execution_count": 76,
      "outputs": [
        {
          "output_type": "display_data",
          "data": {
            "text/plain": [
              "<Figure size 640x480 with 1 Axes>"
            ],
            "image/png": "[encoded data removed]"
          },
          "metadata": {}
        },
        {
          "output_type": "stream",
          "name": "stdout",
          "text": [
            "Predicted: [1]\n",
            "True:      1\n"
          ]
        }
      ]
    },
    {
      "cell_type": "code",
      "source": [
        "features = torch.randn(32, 128)\n",
        "synthetic_images = synthesizer(features)"
      ],
      "metadata": {
        "id": "L4OAIfNrGBP8"
      },
      "execution_count": 93,
      "outputs": []
    },
    {
      "cell_type": "code",
      "source": [
        "plt.imshow(synthetic_images[0][0].detach(), cmap='gray')\n",
        "plt.show()"
      ],
      "metadata": {
        "id": "w_hDJCIdOzsJ",
        "outputId": "fc01ea6f-c015-4ebb-c741-0c538959ab92",
        "colab": {
          "base_uri": "https://localhost:8080/",
          "height": 430
        }
      },
      "execution_count": 104,
      "outputs": [
        {
          "output_type": "display_data",
          "data": {
            "text/plain": [
              "<Figure size 640x480 with 1 Axes>"
            ],
            "image/png": "[encoded data removed]"
          },
          "metadata": {}
        }
      ]
    },
    {
      "cell_type": "code",
      "source": [],
      "metadata": {
        "id": "iEs3xjqBO7fs"
      },
      "execution_count": null,
      "outputs": []
    }
  ],
  "metadata": {
    "kernelspec": {
      "display_name": "Python 3",
      "language": "python",
      "name": "python3"
    },
    "language_info": {
      "codemirror_mode": {
        "name": "ipython",
        "version": 3
      },
      "file_extension": ".py",
      "mimetype": "text/x-python",
      "name": "python",
      "nbconvert_exporter": "python",
      "pygments_lexer": "ipython3",
      "version": "3.10.8"
    },
    "colab": {
      "provenance": []
    }
  },
  "nbformat": 4,
  "nbformat_minor": 0
}