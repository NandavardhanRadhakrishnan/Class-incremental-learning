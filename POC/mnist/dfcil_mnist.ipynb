{
  "cells": [
    {
      "cell_type": "code",
      "execution_count": 1,
      "metadata": {
        "id": "t4F90-rB4LbC"
      },
      "outputs": [],
      "source": [
        "import torch\n",
        "import torch.nn as nn\n",
        "import torch.optim as optim\n",
        "from torch.utils.data import DataLoader, TensorDataset\n",
        "import torch.nn.functional as F\n",
        "import numpy as np\n",
        "import pandas as pd\n",
        "from tqdm import tqdm\n",
        "from sklearn.metrics import confusion_matrix, accuracy_score\n",
        "import seaborn as sns\n",
        "import matplotlib.pyplot as plt\n",
        "from copy import deepcopy\n",
        "\n"
      ]
    },
    {
      "cell_type": "code",
      "execution_count": 2,
      "metadata": {
        "id": "7GHDsc6D4LbE"
      },
      "outputs": [],
      "source": [
        "# Define the feature extractor (f)\n",
        "class FeatureExtractor(nn.Module):\n",
        "    def __init__(self):\n",
        "        super(FeatureExtractor, self).__init__()\n",
        "        self.conv = nn.Sequential(\n",
        "            nn.Conv2d(1, 32, kernel_size=3, stride=1, padding=1),\n",
        "            nn.ReLU(),\n",
        "            nn.MaxPool2d(2),\n",
        "            nn.Conv2d(32, 64, kernel_size=3, stride=1, padding=1),\n",
        "            nn.ReLU(),\n",
        "            nn.MaxPool2d(2),\n",
        "        )\n",
        "        self.flatten = nn.Flatten()\n",
        "        self.fc = nn.Linear(64 * 7 * 7, 128)\n",
        "\n",
        "    def forward(self, x):\n",
        "        x = self.conv(x)\n",
        "        x = self.flatten(x)\n",
        "        x = self.fc(x)\n",
        "        return x\n",
        "\n",
        "# Define the classification head (θ)\n",
        "class ClassificationHead(nn.Module):\n",
        "    def __init__(self, input_dim, num_classes):\n",
        "        super(ClassificationHead, self).__init__()\n",
        "        self.fc = nn.Linear(input_dim, num_classes)\n",
        "\n",
        "    def forward(self, x):\n",
        "        return self.fc(x)\n",
        "\n",
        "# Synthesizer: A simple generator for model inversion\n",
        "class Synthesizer(nn.Module):\n",
        "    def __init__(self, feature_dim, image_shape):\n",
        "        super(Synthesizer, self).__init__()\n",
        "        self.fc = nn.Linear(feature_dim, np.prod(image_shape))\n",
        "        self.image_shape = image_shape\n",
        "\n",
        "    def forward(self, features):\n",
        "        images = self.fc(features).view(-1, *self.image_shape)\n",
        "        return torch.sigmoid(images)  # Generate synthetic images\n"
      ]
    },
    {
      "cell_type": "code",
      "execution_count": 3,
      "metadata": {
        "id": "E54FlCcw4LbG"
      },
      "outputs": [],
      "source": [
        "def create_mnist_data(num_classes, task_index,csv_file=\"mnist.csv\", image_shape=(1, 28, 28)):\n",
        "    mnist_file = open(csv_file)\n",
        "    df = pd.read_csv(mnist_file)\n",
        "\n",
        "    # Determine the classes for this task\n",
        "    all_classes = sorted(df['label'].unique())  # Get all unique classes\n",
        "    start_class = task_index * num_classes      # Starting class for this task\n",
        "    end_class = start_class + num_classes       # Ending class for this task\n",
        "    valid_classes = all_classes[start_class:end_class]\n",
        "\n",
        "    # Filter the dataset for the valid classes\n",
        "    filtered_df = df[df['label'].isin(valid_classes)]\n",
        "\n",
        "    # Separate features and labels\n",
        "    X = filtered_df.drop(columns=['label']).values  # Features (flattened images)\n",
        "    y = filtered_df['label'].values                # Labels\n",
        "\n",
        "    # Normalize and reshape the images\n",
        "    X = torch.tensor(X / 255.0, dtype=torch.float32)  # Normalize to [0, 1]\n",
        "    X = X.view(-1, *image_shape)  # Reshape to (batch, 1, 28, 28)\n",
        "    y = torch.tensor(y, dtype=torch.long)            # Convert labels to tensors\n",
        "\n",
        "    return TensorDataset(X, y)"
      ]
    },
    {
      "cell_type": "code",
      "execution_count": 6,
      "metadata": {
        "id": "20FNuGvN4LbH"
      },
      "outputs": [],
      "source": [
        "import torch\n",
        "import torch.nn as nn\n",
        "import torch.optim as optim\n",
        "from torch.utils.data import DataLoader, TensorDataset\n",
        "import numpy as np\n",
        "from tqdm import tqdm\n",
        "\n",
        "# Define Local Classification Loss\n",
        "class LocalClassificationLoss(nn.Module):\n",
        "    def __init__(self):\n",
        "        super(LocalClassificationLoss, self).__init__()\n",
        "        self.criterion = nn.CrossEntropyLoss()\n",
        "\n",
        "    def forward(self, predictions, targets):\n",
        "        return self.criterion(predictions, targets)\n",
        "\n",
        "# Define Hard Knowledge Distillation Loss\n",
        "class HardKnowledgeDistillationLoss(nn.Module):\n",
        "    def __init__(self):\n",
        "        super(HardKnowledgeDistillationLoss, self).__init__()\n",
        "        self.criterion = nn.MSELoss()\n",
        "\n",
        "    def forward(self, student_logits, teacher_logits):\n",
        "        return self.criterion(student_logits, teacher_logits.detach())\n",
        "\n",
        "# Define Relational Knowledge Distillation Loss\n",
        "class RelationalKnowledgeDistillationLoss(nn.Module):\n",
        "    def __init__(self):\n",
        "        super(RelationalKnowledgeDistillationLoss, self).__init__()\n",
        "        self.criterion = nn.MSELoss()\n",
        "\n",
        "    def forward(self, student_features, teacher_features):\n",
        "        # Compute pairwise distances\n",
        "        student_relations = torch.cdist(student_features, student_features)\n",
        "        teacher_relations = torch.cdist(teacher_features, teacher_features)\n",
        "        return self.criterion(student_relations, teacher_relations.detach())\n",
        "\n",
        "# Train the Synthesizer\n",
        "def train_synthesizer(feature_extractor, old_model, synthesizer, train_loader, device):\n",
        "    synthesizer.train()\n",
        "    optimizer = optim.Adam(synthesizer.parameters(), lr=0.001)\n",
        "    criterion = nn.MSELoss()\n",
        "\n",
        "    for epoch in range(5):  # Train for 5 epochs\n",
        "        for images, _ in train_loader:\n",
        "            images = images.to(device)\n",
        "\n",
        "            # Extract features from the old model\n",
        "            with torch.no_grad():\n",
        "                features = old_model(images)\n",
        "\n",
        "            # Generate synthetic images\n",
        "            synthetic_images = synthesizer(features)\n",
        "\n",
        "            # Compute loss (reconstruction loss)\n",
        "            loss = criterion(synthetic_images, images)\n",
        "\n",
        "            optimizer.zero_grad()\n",
        "            loss.backward()\n",
        "            optimizer.step()\n",
        "\n",
        "# Train R-DFCIL\n",
        "\n",
        "def train_r_dfcil(task_data, num_classes_per_task, image_shape,num_epoch=3):\n",
        "    device = torch.device(\"cuda\" if torch.cuda.is_available() else \"cpu\")\n",
        "\n",
        "    feature_extractor = FeatureExtractor().to(device)\n",
        "    synthesizer = Synthesizer(128, image_shape).to(device)\n",
        "\n",
        "    old_model = None\n",
        "    old_classification_head = None\n",
        "    for task_index, (train_dataset, test_dataset) in enumerate(task_data):\n",
        "        num_classes = sum(num_classes_per_task[:task_index+1])\n",
        "        classification_head = ClassificationHead(128, num_classes).to(device)\n",
        "        print(\"num_classes:\",num_classes)\n",
        "        train_loader = DataLoader(train_dataset, batch_size=32, shuffle=True)\n",
        "        test_loader = DataLoader(test_dataset, batch_size=32, shuffle=False)\n",
        "\n",
        "        # Stage 1: Train Synthesizer\n",
        "        if old_model is not None:\n",
        "            train_synthesizer(feature_extractor, old_model, synthesizer, train_loader, device)\n",
        "\n",
        "        # Stage 2: Representation Learning\n",
        "        feature_extractor.train()\n",
        "        classification_head.train()\n",
        "        optimizer = optim.Adam(\n",
        "            list(feature_extractor.parameters()) + list(classification_head.parameters()),\n",
        "            lr=0.001,\n",
        "        )\n",
        "\n",
        "        local_loss_fn = LocalClassificationLoss()\n",
        "        if old_model is not None:\n",
        "            hard_kd_loss_fn = HardKnowledgeDistillationLoss()\n",
        "            relational_kd_loss_fn = RelationalKnowledgeDistillationLoss()\n",
        "\n",
        "        print(f\"Training task {task_index + 1} - Representation Learning\")\n",
        "        for epoch in range(num_epoch):\n",
        "            epoch_bar = tqdm(train_loader, desc=f\"Epoch {epoch + 1}/{num_epoch}\", leave=False)\n",
        "            for images, labels in epoch_bar:\n",
        "                images, labels = images.to(device), labels.to(device)\n",
        "\n",
        "                # Forward pass\n",
        "                features = feature_extractor(images)\n",
        "                predictions = classification_head(features)\n",
        "\n",
        "                # Local classification loss\n",
        "                loss = local_loss_fn(predictions, labels)\n",
        "\n",
        "                # Knowledge distillation losses\n",
        "                if old_model is not None:\n",
        "                    with torch.no_grad():\n",
        "                        old_features = old_model(images)\n",
        "                        old_predictions = old_classification_head(old_features)\n",
        "\n",
        "                    # Align the output shapes before calculating the loss\n",
        "                    old_predictions = F.pad(old_predictions, (0, num_classes - old_predictions.shape[1]))\n",
        "\n",
        "                    loss += hard_kd_loss_fn(predictions, old_predictions)\n",
        "                    loss += relational_kd_loss_fn(features, old_features)\n",
        "\n",
        "                optimizer.zero_grad()\n",
        "                loss.backward()\n",
        "                optimizer.step()\n",
        "            print(f\"Epoch {epoch + 1} completed.\")\n",
        "\n",
        "        # Stage 3: Refining the Classification Head\n",
        "        classification_head.train()\n",
        "        class_counts = torch.zeros(num_classes, device=device)\n",
        "        for _, labels in train_loader:\n",
        "            for label in labels:\n",
        "                class_counts[label] += 1\n",
        "\n",
        "        class_weights = 1.0 / (class_counts + 1e-5)  # Avoid division by zero\n",
        "        class_weights /= class_weights.sum()\n",
        "\n",
        "        global_loss_fn = nn.CrossEntropyLoss(weight=class_weights)\n",
        "        optimizer = optim.Adam(classification_head.parameters(), lr=0.001)\n",
        "\n",
        "        print(f\"Training task {task_index + 1} - Refining Classification Head\")\n",
        "        for epoch in range(5):  # Refine for 5 epochs\n",
        "            epoch_bar = tqdm(train_loader, desc=f\"Epoch {epoch + 1}/5\", leave=False)\n",
        "            for images, labels in epoch_bar:\n",
        "                images, labels = images.to(device), labels.to(device)\n",
        "\n",
        "                # Forward pass\n",
        "                features = feature_extractor(images)\n",
        "                predictions = classification_head(features)\n",
        "\n",
        "                # Compute global loss\n",
        "                loss = global_loss_fn(predictions, labels)\n",
        "\n",
        "                optimizer.zero_grad()\n",
        "                loss.backward()\n",
        "                optimizer.step()\n",
        "            print(f\"Epoch {epoch + 1} completed.\")\n",
        "\n",
        "        # Save the old model and classification head\n",
        "        old_model = feature_extractor\n",
        "        old_classification_head = classification_head\n",
        "\n",
        "    return feature_extractor, classification_head, synthesizer\n"
      ]
    },
    {
      "cell_type": "code",
      "execution_count": 7,
      "metadata": {
        "colab": {
          "base_uri": "https://localhost:8080/"
        },
        "id": "lYA5buvH4LbH",
        "outputId": "c066d0d3-fdda-4b87-d5ed-1446e02eb349"
      },
      "outputs": [
        {
          "output_type": "stream",
          "name": "stdout",
          "text": [
            "num_classes: 5\n",
            "Training task 1 - Representation Learning\n"
          ]
        },
        {
          "output_type": "stream",
          "name": "stderr",
          "text": []
        },
        {
          "output_type": "stream",
          "name": "stdout",
          "text": [
            "Epoch 1 completed.\n"
          ]
        },
        {
          "output_type": "stream",
          "name": "stderr",
          "text": []
        },
        {
          "output_type": "stream",
          "name": "stdout",
          "text": [
            "Epoch 2 completed.\n"
          ]
        },
        {
          "output_type": "stream",
          "name": "stderr",
          "text": []
        },
        {
          "output_type": "stream",
          "name": "stdout",
          "text": [
            "Epoch 3 completed.\n",
            "Training task 1 - Refining Classification Head\n"
          ]
        },
        {
          "output_type": "stream",
          "name": "stderr",
          "text": []
        },
        {
          "output_type": "stream",
          "name": "stdout",
          "text": [
            "Epoch 1 completed.\n"
          ]
        },
        {
          "output_type": "stream",
          "name": "stderr",
          "text": []
        },
        {
          "output_type": "stream",
          "name": "stdout",
          "text": [
            "Epoch 2 completed.\n"
          ]
        },
        {
          "output_type": "stream",
          "name": "stderr",
          "text": []
        },
        {
          "output_type": "stream",
          "name": "stdout",
          "text": [
            "Epoch 3 completed.\n"
          ]
        },
        {
          "output_type": "stream",
          "name": "stderr",
          "text": []
        },
        {
          "output_type": "stream",
          "name": "stdout",
          "text": [
            "Epoch 4 completed.\n"
          ]
        },
        {
          "output_type": "stream",
          "name": "stderr",
          "text": []
        },
        {
          "output_type": "stream",
          "name": "stdout",
          "text": [
            "Epoch 5 completed.\n",
            "num_classes: 10\n",
            "Training task 2 - Representation Learning\n"
          ]
        },
        {
          "output_type": "stream",
          "name": "stderr",
          "text": []
        },
        {
          "output_type": "stream",
          "name": "stdout",
          "text": [
            "Epoch 1 completed.\n"
          ]
        },
        {
          "output_type": "stream",
          "name": "stderr",
          "text": []
        },
        {
          "output_type": "stream",
          "name": "stdout",
          "text": [
            "Epoch 2 completed.\n"
          ]
        },
        {
          "output_type": "stream",
          "name": "stderr",
          "text": []
        },
        {
          "output_type": "stream",
          "name": "stdout",
          "text": [
            "Epoch 3 completed.\n",
            "Training task 2 - Refining Classification Head\n"
          ]
        },
        {
          "output_type": "stream",
          "name": "stderr",
          "text": []
        },
        {
          "output_type": "stream",
          "name": "stdout",
          "text": [
            "Epoch 1 completed.\n"
          ]
        },
        {
          "output_type": "stream",
          "name": "stderr",
          "text": []
        },
        {
          "output_type": "stream",
          "name": "stdout",
          "text": [
            "Epoch 2 completed.\n"
          ]
        },
        {
          "output_type": "stream",
          "name": "stderr",
          "text": []
        },
        {
          "output_type": "stream",
          "name": "stdout",
          "text": [
            "Epoch 3 completed.\n"
          ]
        },
        {
          "output_type": "stream",
          "name": "stderr",
          "text": []
        },
        {
          "output_type": "stream",
          "name": "stdout",
          "text": [
            "Epoch 4 completed.\n"
          ]
        },
        {
          "output_type": "stream",
          "name": "stderr",
          "text": [
            "                                                             "
          ]
        },
        {
          "output_type": "stream",
          "name": "stdout",
          "text": [
            "Epoch 5 completed.\n"
          ]
        },
        {
          "output_type": "stream",
          "name": "stderr",
          "text": [
            "\r"
          ]
        }
      ],
      "source": [
        "num_classes_per_task = [5, 5]  # Task 1: 5 classes, Task 2: 5 classes\n",
        "image_shape = (1, 28, 28)\n",
        "\n",
        "# Load MNIST datasets for tasks\n",
        "task1_data = create_mnist_data(num_classes_per_task[0], task_index=0, image_shape=image_shape)\n",
        "task2_data = create_mnist_data(num_classes_per_task[1], task_index=1, image_shape=image_shape)\n",
        "data = create_mnist_data(10, task_index=0, image_shape=image_shape)\n",
        "\n",
        "# Prepare task data\n",
        "task_data = [(task1_data, task1_data), (task2_data, task2_data)]  # (train, test)\n",
        "\n",
        "# Train R-DFCIL\n",
        "feature_extractor, classification_head, synthesizer = train_r_dfcil(task_data, num_classes_per_task, image_shape=image_shape)"
      ]
    },
    {
      "cell_type": "code",
      "source": [
        "def inference_on_model(feature_extractor, classification_head, loader, num_classes):\n",
        "    feature_extractor.eval()\n",
        "    classification_head.eval()\n",
        "\n",
        "    all_preds = []\n",
        "    all_labels = []\n",
        "    device = torch.device(\"cuda\" if torch.cuda.is_available() else \"cpu\")\n",
        "\n",
        "    feature_extractor.to(device)\n",
        "    classification_head.to(device)\n",
        "\n",
        "    with torch.no_grad():\n",
        "        for batch_idx, (images, labels) in enumerate(loader):\n",
        "            images, labels = images.to(device), labels.to(device)\n",
        "\n",
        "            # Ensure images have the correct batch and channel dimensions\n",
        "            if len(images.shape) == 3:  # If shape is (batch, height, width)\n",
        "                images = images.unsqueeze(1)  # Add channel dimension (batch, channels, height, width)\n",
        "\n",
        "            # Forward pass\n",
        "            features = feature_extractor(images)\n",
        "            logits = classification_head(features)\n",
        "            predictions = torch.argmax(logits, dim=1)\n",
        "\n",
        "            # Collect results for evaluation\n",
        "            all_preds.extend(predictions.cpu().numpy())\n",
        "\n",
        "            # Reshape labels to match batch processing\n",
        "            if labels.ndimension() == 0:  # If labels are 0-dimensional (scalar)\n",
        "                labels = labels.unsqueeze(0)\n",
        "\n",
        "            all_labels.extend(labels.cpu().numpy())\n",
        "\n",
        "            # Occasionally display predictions\n",
        "            if batch_idx % 2000 == 0:  # Adjust frequency as needed\n",
        "                print(f\"Batch {batch_idx} Predictions:\")\n",
        "                print(f\"Predicted: {predictions.cpu().numpy()}\")\n",
        "                print(f\"True:      {labels.cpu().numpy()}\")\n",
        "\n",
        "    # Compute accuracy\n",
        "    accuracy = accuracy_score(all_labels, all_preds)\n",
        "    print(f\"\\nAccuracy: {accuracy * 100:.2f}%\")\n",
        "\n",
        "    # Compute confusion matrix\n",
        "    cm = confusion_matrix(all_labels, all_preds, labels=list(range(num_classes)))\n",
        "    plt.figure(figsize=(10, 8))\n",
        "    sns.heatmap(cm, annot=True, fmt=\"d\", cmap=\"Blues\", xticklabels=list(range(num_classes)),\n",
        "                yticklabels=list(range(num_classes)))\n",
        "    plt.xlabel(\"Predicted\")\n",
        "    plt.ylabel(\"True\")\n",
        "    plt.title(\"Confusion Matrix\")\n",
        "    plt.show()\n",
        "    print(cm)\n"
      ],
      "metadata": {
        "id": "QDTbbq576cGp"
      },
      "execution_count": 8,
      "outputs": []
    },
    {
      "cell_type": "code",
      "source": [
        "inference_on_model(feature_extractor,classification_head,data,10)"
      ],
      "metadata": {
        "colab": {
          "base_uri": "https://localhost:8080/",
          "height": 1000
        },
        "id": "oMSZj9eN8E3j",
        "outputId": "825f324d-85e0-4549-f623-25f69ba6c22a"
      },
      "execution_count": 9,
      "outputs": [
        {
          "output_type": "stream",
          "name": "stdout",
          "text": [
            "Batch 0 Predictions:\n",
            "Predicted: [8]\n",
            "True:      [1]\n",
            "Batch 2000 Predictions:\n",
            "Predicted: [5]\n",
            "True:      [3]\n",
            "Batch 4000 Predictions:\n",
            "Predicted: [8]\n",
            "True:      [8]\n",
            "Batch 6000 Predictions:\n",
            "Predicted: [7]\n",
            "True:      [1]\n",
            "Batch 8000 Predictions:\n",
            "Predicted: [8]\n",
            "True:      [8]\n",
            "Batch 10000 Predictions:\n",
            "Predicted: [8]\n",
            "True:      [2]\n",
            "Batch 12000 Predictions:\n",
            "Predicted: [7]\n",
            "True:      [7]\n",
            "Batch 14000 Predictions:\n",
            "Predicted: [6]\n",
            "True:      [6]\n",
            "Batch 16000 Predictions:\n",
            "Predicted: [8]\n",
            "True:      [1]\n",
            "Batch 18000 Predictions:\n",
            "Predicted: [7]\n",
            "True:      [7]\n",
            "Batch 20000 Predictions:\n",
            "Predicted: [5]\n",
            "True:      [3]\n",
            "Batch 22000 Predictions:\n",
            "Predicted: [7]\n",
            "True:      [7]\n",
            "Batch 24000 Predictions:\n",
            "Predicted: [6]\n",
            "True:      [4]\n",
            "Batch 26000 Predictions:\n",
            "Predicted: [8]\n",
            "True:      [1]\n",
            "Batch 28000 Predictions:\n",
            "Predicted: [5]\n",
            "True:      [3]\n",
            "Batch 30000 Predictions:\n",
            "Predicted: [5]\n",
            "True:      [3]\n",
            "Batch 32000 Predictions:\n",
            "Predicted: [6]\n",
            "True:      [6]\n",
            "Batch 34000 Predictions:\n",
            "Predicted: [7]\n",
            "True:      [1]\n",
            "Batch 36000 Predictions:\n",
            "Predicted: [8]\n",
            "True:      [1]\n",
            "Batch 38000 Predictions:\n",
            "Predicted: [5]\n",
            "True:      [5]\n",
            "Batch 40000 Predictions:\n",
            "Predicted: [8]\n",
            "True:      [2]\n",
            "\n",
            "Accuracy: 48.88%\n"
          ]
        },
        {
          "output_type": "display_data",
          "data": {
            "text/plain": [
              "<Figure size 1000x800 with 2 Axes>"
            ],
            "image/png": "[encoded data removed]"
          },
          "metadata": {}
        }
      ]
    },
    {
      "cell_type": "code",
      "source": [
        "def infer(f, c, loader, index):\n",
        "    f.eval()\n",
        "    c.eval()\n",
        "    all_preds = []\n",
        "    all_label = []\n",
        "    img,label = loader[index]\n",
        "    features = f(img.unsqueeze(0))\n",
        "    logits = c(features)\n",
        "    predictions = torch.argmax(logits, dim=1)\n",
        "    plt.imshow(img.squeeze(0), cmap='gray')\n",
        "    plt.show()\n",
        "    print(f\"Predicted: {predictions.cpu().numpy()}\")\n",
        "    print(f\"True:      {label.cpu().numpy()}\")\n"
      ],
      "metadata": {
        "id": "cJoU7717Gi_1"
      },
      "execution_count": null,
      "outputs": []
    },
    {
      "cell_type": "code",
      "source": [
        "infer(feature_extractor,classification_head,task1_data, 20000 )"
      ],
      "metadata": {
        "colab": {
          "base_uri": "https://localhost:8080/",
          "height": 465
        },
        "id": "qrQij3ZJG85E",
        "outputId": "34fc42f3-7fce-4a8f-d5aa-7c46df423908"
      },
      "execution_count": null,
      "outputs": [
        {
          "output_type": "display_data",
          "data": {
            "text/plain": [
              "<Figure size 640x480 with 1 Axes>"
            ],
            "image/png": "[encoded data removed]"
          },
          "metadata": {}
        },
        {
          "output_type": "stream",
          "name": "stdout",
          "text": [
            "Predicted: [1]\n",
            "True:      1\n"
          ]
        }
      ]
    },
    {
      "cell_type": "code",
      "source": [
        "features = torch.randn(32, 128)\n",
        "synthetic_images = synthesizer(features)"
      ],
      "metadata": {
        "id": "L4OAIfNrGBP8"
      },
      "execution_count": null,
      "outputs": []
    },
    {
      "cell_type": "code",
      "source": [
        "plt.imshow(synthetic_images[0][0].detach(), cmap='gray')\n",
        "plt.show()"
      ],
      "metadata": {
        "colab": {
          "base_uri": "https://localhost:8080/",
          "height": 430
        },
        "id": "w_hDJCIdOzsJ",
        "outputId": "fc01ea6f-c015-4ebb-c741-0c538959ab92"
      },
      "execution_count": null,
      "outputs": [
        {
          "output_type": "display_data",
          "data": {
            "text/plain": [
              "<Figure size 640x480 with 1 Axes>"
            ],
            "image/png": "[encoded data removed]"
          },
          "metadata": {}
        }
      ]
    },
    {
      "cell_type": "code",
      "source": [],
      "metadata": {
        "id": "iEs3xjqBO7fs"
      },
      "execution_count": null,
      "outputs": []
    }
  ],
  "metadata": {
    "kernelspec": {
      "display_name": "Python 3",
      "name": "python3"
    },
    "language_info": {
      "codemirror_mode": {
        "name": "ipython",
        "version": 3
      },
      "file_extension": ".py",
      "mimetype": "text/x-python",
      "name": "python",
      "nbconvert_exporter": "python",
      "pygments_lexer": "ipython3",
      "version": "3.10.8"
    },
    "colab": {
      "provenance": [],
      "gpuType": "T4"
    },
    "accelerator": "GPU"
  },
  "nbformat": 4,
  "nbformat_minor": 0
}